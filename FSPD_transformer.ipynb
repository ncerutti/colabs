{
  "nbformat": 4,
  "nbformat_minor": 0,
  "metadata": {
    "colab": {
      "provenance": [],
      "authorship_tag": "ABX9TyOOGQVQd85uGiARkKEWNrTc",
      "include_colab_link": true
    },
    "kernelspec": {
      "name": "python3",
      "display_name": "Python 3"
    },
    "language_info": {
      "name": "python"
    },
    "accelerator": "GPU",
    "gpuClass": "standard"
  },
  "cells": [
    {
      "cell_type": "markdown",
      "metadata": {
        "id": "view-in-github",
        "colab_type": "text"
      },
      "source": [
        "<a href=\"https://colab.research.google.com/github/ncerutti/colabs/blob/main/FSPD_transformer.ipynb\" target=\"_parent\"><img src=\"https://colab.research.google.com/assets/colab-badge.svg\" alt=\"Open In Colab\"/></a>"
      ]
    },
    {
      "cell_type": "code",
      "source": [
        "import pandas as pd\n",
        "\n",
        "fspd_f = pd.read_stata('./data/March30_f.dta')\n",
        "fspd_f.columns\n",
        "print(fspd_f['segment'].unique())\n",
        "print(fspd_f['segment'].isnull().sum())"
      ],
      "metadata": {
        "colab": {
          "base_uri": "https://localhost:8080/"
        },
        "id": "6eGxcjmgN_-s",
        "outputId": "d09b22a9-16f1-4728-a56b-3d184217fa8f"
      },
      "execution_count": 12,
      "outputs": [
        {
          "output_type": "stream",
          "name": "stdout",
          "text": [
            "['04Trade' '02Farming' '11General_framework' '01Inputs'\n",
            " '10Natural_resource_mgmt' '03Distribution_transport'\n",
            " '08Final_consumption' '09Multiple' '05Processing_manufacturing'\n",
            " '06Retail' '07Foodservice']\n",
            "0\n"
          ]
        }
      ]
    },
    {
      "cell_type": "code",
      "execution_count": 13,
      "metadata": {
        "colab": {
          "base_uri": "https://localhost:8080/"
        },
        "id": "sMdyV4ydN6E8",
        "outputId": "cc08cc92-8228-4e81-8040-3d721cf97057"
      },
      "outputs": [
        {
          "output_type": "stream",
          "name": "stdout",
          "text": [
            "3\n",
            "7234\n",
            "['04' '02' '11' '01' '10' '03' '08' '09' '05' '06' '07']\n",
            "0\n"
          ]
        },
        {
          "output_type": "stream",
          "name": "stderr",
          "text": [
            "/usr/local/lib/python3.7/dist-packages/ipykernel_launcher.py:13: SettingWithCopyWarning: \n",
            "A value is trying to be set on a copy of a slice from a DataFrame.\n",
            "Try using .loc[row_indexer,col_indexer] = value instead\n",
            "\n",
            "See the caveats in the documentation: https://pandas.pydata.org/pandas-docs/stable/user_guide/indexing.html#returning-a-view-versus-a-copy\n",
            "  del sys.path[0]\n",
            "/usr/local/lib/python3.7/dist-packages/ipykernel_launcher.py:25: SettingWithCopyWarning: \n",
            "A value is trying to be set on a copy of a slice from a DataFrame.\n",
            "Try using .loc[row_indexer,col_indexer] = value instead\n",
            "\n",
            "See the caveats in the documentation: https://pandas.pydata.org/pandas-docs/stable/user_guide/indexing.html#returning-a-view-versus-a-copy\n"
          ]
        }
      ],
      "source": [
        "# create a new dataframe with only 'policydecision_details', 'segment', and 'lever' columns\n",
        "\n",
        "df = fspd_f[['policydecision_details', 'segment']]\n",
        "# check minimum and maximum length of text in 'policydecision_details' column\n",
        "\n",
        "print(df['policydecision_details'].str.len().min())\n",
        "print(df['policydecision_details'].str.len().max())\n",
        "# check how many rows have len(policydecision_details) < 20\n",
        "\n",
        "df[df['policydecision_details'].str.len() < 10].shape\n",
        "# encode all segments to numeric by keeping only the first two characters\n",
        "\n",
        "df['segment'] = df['segment'].str[:2]\n",
        "\n",
        "# then print the unique values of the 'segment' column\n",
        "\n",
        "print(df['segment'].unique())\n",
        "\n",
        "# finally, print the number of rows with null values in the 'segment' column (just to be sure)\n",
        "\n",
        "print(df['segment'].isnull().sum())\n",
        "\n",
        "# and now convert the 'segment' column to numeric\n",
        "\n",
        "df['segment'] = pd.to_numeric(df['segment'])"
      ]
    },
    {
      "cell_type": "code",
      "source": [],
      "metadata": {
        "id": "aghXGADlYua5"
      },
      "execution_count": 13,
      "outputs": []
    },
    {
      "cell_type": "code",
      "source": [
        "import tensorflow as tf\n",
        "from tensorflow.keras import models, layers\n",
        "import tensorflow_datasets as tfds\n",
        "import tensorflow_hub as hub\n",
        "import matplotlib.pyplot as plt\n",
        "import numpy as np\n",
        "from tensorflow.keras.preprocessing.text import Tokenizer\n",
        "from tensorflow.keras.preprocessing.sequence import pad_sequences\n",
        "\n",
        "import nltk\n",
        "nltk.download('stopwords')\n",
        "\n",
        "from nltk.corpus import stopwords\n",
        "\n",
        "STOPWORDS = set(stopwords.words('english'))\n",
        "vocabulary_size = 10_000\n",
        "sequence_length = 128\n",
        "max_length = 200\n",
        "trunc_type = 'post'\n",
        "padding_type = 'post'\n",
        "oov_tok = '<OOV>'\n",
        "training_portion = .8\n",
        "\n",
        "# remove stopwords from the 'policydecision_details' column\n",
        "\n",
        "df['policydecision_details'] = df['policydecision_details'].apply(lambda x: ' '.join([word for word in x.split() if word not in (STOPWORDS)]))\n",
        "\n",
        "# remove punctuation from the 'policydecision_details' column\n",
        "\n",
        "df['policydecision_details'] = df['policydecision_details'].str.replace('[^\\w\\s]','')\n",
        "\n",
        "# randomly divide the data into train and validation sets (80% and 20% respectively)\n",
        "\n",
        "train_df = df.sample(frac=0.8, random_state=seed)\n",
        "val_df = df.drop(train_df.index)\n",
        "\n",
        "# transform the data into tf.data.Dataset objects\n",
        "\n",
        "train_ds_orig = tf.data.Dataset.from_tensor_slices((train_df['policydecision_details'].values, train_df['segment'].values))\n",
        "train_ds = train_ds_orig.cache().shuffle(777).batch(512)\n",
        "val_ds_orig = tf.data.Dataset.from_tensor_slices((val_df['policydecision_details'].values, val_df['segment'].values))\n",
        "val_ds = val_ds_orig.cache().shuffle(777).batch(512)"
      ],
      "metadata": {
        "colab": {
          "base_uri": "https://localhost:8080/"
        },
        "id": "7A0pg_8lQFpO",
        "outputId": "f5d96b98-151c-4c88-ce5a-bf7565565719"
      },
      "execution_count": 14,
      "outputs": [
        {
          "output_type": "stream",
          "name": "stderr",
          "text": [
            "[nltk_data] Downloading package stopwords to /root/nltk_data...\n",
            "[nltk_data]   Package stopwords is already up-to-date!\n",
            "/usr/local/lib/python3.7/dist-packages/ipykernel_launcher.py:26: SettingWithCopyWarning: \n",
            "A value is trying to be set on a copy of a slice from a DataFrame.\n",
            "Try using .loc[row_indexer,col_indexer] = value instead\n",
            "\n",
            "See the caveats in the documentation: https://pandas.pydata.org/pandas-docs/stable/user_guide/indexing.html#returning-a-view-versus-a-copy\n",
            "/usr/local/lib/python3.7/dist-packages/ipykernel_launcher.py:30: FutureWarning: The default value of regex will change from True to False in a future version.\n",
            "/usr/local/lib/python3.7/dist-packages/ipykernel_launcher.py:30: SettingWithCopyWarning: \n",
            "A value is trying to be set on a copy of a slice from a DataFrame.\n",
            "Try using .loc[row_indexer,col_indexer] = value instead\n",
            "\n",
            "See the caveats in the documentation: https://pandas.pydata.org/pandas-docs/stable/user_guide/indexing.html#returning-a-view-versus-a-copy\n"
          ]
        }
      ]
    },
    {
      "cell_type": "code",
      "source": [
        "def render_history(history):\n",
        "    plt.title(\"Losses\")\n",
        "    plt.plot(history.history[\"loss\"], label=\"loss\")\n",
        "    plt.plot(history.history[\"val_loss\"], label=\"val_loss\")\n",
        "    plt.legend()\n",
        "    plt.show()\n",
        "    plt.close()\n",
        "\n",
        "    plt.title(\"Accuracies\")\n",
        "    plt.plot(history.history[\"accuracy\"], label=\"accuracy\")\n",
        "    plt.plot(history.history[\"val_accuracy\"], label=\"val_accuracy\")\n",
        "    plt.legend()\n",
        "    plt.show()\n",
        "    plt.close()"
      ],
      "metadata": {
        "id": "5TlglRghYjEV"
      },
      "execution_count": 15,
      "outputs": []
    },
    {
      "cell_type": "code",
      "source": [
        "class TransformerBlock(layers.Layer):\n",
        "    def __init__(self, embed_dim, num_heads, ff_dim, rate=0.1):\n",
        "        super(TransformerBlock, self).__init__()\n",
        "        self.att = layers.MultiHeadAttention(num_heads=num_heads, key_dim=embed_dim)\n",
        "        self.ffn = models.Sequential(\n",
        "            [layers.Dense(ff_dim, activation=\"relu\"), layers.Dense(embed_dim),]\n",
        "        )\n",
        "        self.layernorm1 = layers.LayerNormalization(epsilon=1e-6)\n",
        "        self.layernorm2 = layers.LayerNormalization(epsilon=1e-6)\n",
        "        self.dropout1 = layers.Dropout(rate)\n",
        "        self.dropout2 = layers.Dropout(rate)\n",
        "\n",
        "    def call(self, inputs, training):\n",
        "        attn_output = self.att(inputs, inputs)\n",
        "        attn_output = self.dropout1(attn_output, training=training)\n",
        "        out1 = self.layernorm1(inputs + attn_output)\n",
        "        ffn_output = self.ffn(out1)\n",
        "        ffn_output = self.dropout2(ffn_output, training=training)\n",
        "        return self.layernorm2(out1 + ffn_output)"
      ],
      "metadata": {
        "id": "dAA65RISeJWY"
      },
      "execution_count": 19,
      "outputs": []
    },
    {
      "cell_type": "code",
      "source": [
        "class TokenAndPositionEmbedding(layers.Layer):\n",
        "    def __init__(self, maxlen, vocab_size, embed_dim):\n",
        "        super(TokenAndPositionEmbedding, self).__init__()\n",
        "        self.token_emb = layers.Embedding(input_dim=vocab_size, output_dim=embed_dim)\n",
        "        self.pos_emb = layers.Embedding(input_dim=maxlen, output_dim=embed_dim)\n",
        "\n",
        "    def call(self, x):\n",
        "        maxlen = tf.shape(x)[-1]\n",
        "        positions = tf.range(start=0, limit=maxlen, delta=1)\n",
        "        positions = self.pos_emb(positions)\n",
        "        x = self.token_emb(x)\n",
        "        return x + positions"
      ],
      "metadata": {
        "id": "LjaF3GBQeNvC"
      },
      "execution_count": 20,
      "outputs": []
    },
    {
      "cell_type": "code",
      "source": [
        "encoder = layers.TextVectorization(\n",
        "    max_tokens=vocabulary_size,\n",
        "    output_sequence_length=sequence_length,\n",
        "    standardize=\"lower_and_strip_punctuation\",\n",
        "    split=\"whitespace\",\n",
        "    output_mode=\"int\",\n",
        "    pad_to_max_tokens=True\n",
        ")\n",
        "encoder.adapt(train_ds_orig.map(lambda text, label: text).batch(512))\n",
        "# This model has 3 LSTM layers stacked\n",
        "\n",
        "embed_dim = 32  # Embedding size for each token\n",
        "num_heads = 2  # Number of attention heads\n",
        "ff_dim = 32  # Hidden layer size in feed forward network inside transformer\n",
        "\n",
        "model = models.Sequential()\n",
        "model.add(encoder)\n",
        "model.add(layers.Embedding(input_dim=vocabulary_size, output_dim=32))\n",
        "transformer_block = TransformerBlock(embed_dim, num_heads, ff_dim)\n",
        "model.add(transformer_block)\n",
        "model.add(layers.GlobalAveragePooling1D())\n",
        "model.add(layers.Dropout(0.1))\n",
        "model.add(layers.Dense(64, activation='relu'))\n",
        "model.add(layers.Dropout(0.1))\n",
        "model.add(layers.Dense(12, activation='softmax'))\n",
        "model.summary()\n",
        "model.compile(\n",
        "    optimizer='adam', #<- one way\n",
        "    #optimizer=tf.optimizers.Adam(learning_rate=0.0001),\n",
        "    loss='sparse_categorical_crossentropy',\n",
        "    metrics=['accuracy'],\n",
        ")\n",
        "\n",
        "history = model.fit(\n",
        "    train_ds,\n",
        "    epochs=10,\n",
        "    validation_data=val_ds,\n",
        ")\n",
        "\n",
        "render_history(history)"
      ],
      "metadata": {
        "colab": {
          "base_uri": "https://localhost:8080/",
          "height": 1000
        },
        "id": "TZiPwVb5Yl1p",
        "outputId": "8e48bfbc-519b-4992-917f-610759986acc"
      },
      "execution_count": 22,
      "outputs": [
        {
          "output_type": "stream",
          "name": "stdout",
          "text": [
            "Model: \"sequential_8\"\n",
            "_________________________________________________________________\n",
            " Layer (type)                Output Shape              Param #   \n",
            "=================================================================\n",
            " text_vectorization_7 (TextV  (None, 128)              0         \n",
            " ectorization)                                                   \n",
            "                                                                 \n",
            " embedding_7 (Embedding)     (None, 128, 32)           320000    \n",
            "                                                                 \n",
            " transformer_block_2 (Transf  (None, 128, 32)          10656     \n",
            " ormerBlock)                                                     \n",
            "                                                                 \n",
            " global_average_pooling1d_1   (None, 32)               0         \n",
            " (GlobalAveragePooling1D)                                        \n",
            "                                                                 \n",
            " dropout_4 (Dropout)         (None, 32)                0         \n",
            "                                                                 \n",
            " dense_14 (Dense)            (None, 64)                2112      \n",
            "                                                                 \n",
            " dropout_5 (Dropout)         (None, 64)                0         \n",
            "                                                                 \n",
            " dense_15 (Dense)            (None, 12)                780       \n",
            "                                                                 \n",
            "=================================================================\n",
            "Total params: 333,548\n",
            "Trainable params: 333,548\n",
            "Non-trainable params: 0\n",
            "_________________________________________________________________\n",
            "Epoch 1/10\n",
            "25/25 [==============================] - 14s 502ms/step - loss: 2.1230 - accuracy: 0.2875 - val_loss: 1.7959 - val_accuracy: 0.3961\n",
            "Epoch 2/10\n",
            "25/25 [==============================] - 12s 494ms/step - loss: 1.7243 - accuracy: 0.4401 - val_loss: 1.5528 - val_accuracy: 0.5199\n",
            "Epoch 3/10\n",
            "25/25 [==============================] - 12s 488ms/step - loss: 1.4391 - accuracy: 0.5466 - val_loss: 1.3234 - val_accuracy: 0.5664\n",
            "Epoch 4/10\n",
            "25/25 [==============================] - 12s 494ms/step - loss: 1.1030 - accuracy: 0.6471 - val_loss: 1.0183 - val_accuracy: 0.6790\n",
            "Epoch 5/10\n",
            "25/25 [==============================] - 13s 537ms/step - loss: 0.8329 - accuracy: 0.7439 - val_loss: 0.8753 - val_accuracy: 0.7271\n",
            "Epoch 6/10\n",
            "25/25 [==============================] - 12s 493ms/step - loss: 0.6166 - accuracy: 0.8083 - val_loss: 0.8693 - val_accuracy: 0.7338\n",
            "Epoch 7/10\n",
            "25/25 [==============================] - 13s 521ms/step - loss: 0.4994 - accuracy: 0.8461 - val_loss: 0.8822 - val_accuracy: 0.7415\n",
            "Epoch 8/10\n",
            "25/25 [==============================] - 12s 493ms/step - loss: 0.3992 - accuracy: 0.8719 - val_loss: 0.9507 - val_accuracy: 0.7428\n",
            "Epoch 9/10\n",
            "25/25 [==============================] - 12s 491ms/step - loss: 0.3590 - accuracy: 0.8860 - val_loss: 0.9951 - val_accuracy: 0.7351\n",
            "Epoch 10/10\n",
            "25/25 [==============================] - 12s 497ms/step - loss: 0.2864 - accuracy: 0.9084 - val_loss: 1.0869 - val_accuracy: 0.7235\n"
          ]
        },
        {
          "output_type": "display_data",
          "data": {
            "text/plain": [
              "<Figure size 432x288 with 1 Axes>"
            ],
            "image/png": "[encoded data removed]"
          },
          "metadata": {
            "needs_background": "light"
          }
        },
        {
          "output_type": "display_data",
          "data": {
            "text/plain": [
              "<Figure size 432x288 with 1 Axes>"
            ],
            "image/png": "[encoded data removed]"
          },
          "metadata": {
            "needs_background": "light"
          }
        }
      ]
    },
    {
      "cell_type": "code",
      "source": [],
      "metadata": {
        "id": "CbZ2V5OOal22"
      },
      "execution_count": null,
      "outputs": []
    }
  ]
}